{
 "cells": [
  {
   "cell_type": "code",
   "execution_count": 22,
   "metadata": {},
   "outputs": [],
   "source": [
    "import pandas as pd \n",
    "import numpy as np\n",
    "from matplotlib import pyplot as plt \n",
    "import matplotlib.pyplot as plts\n",
    "import seaborn as sns"
   ]
  },
  {
   "cell_type": "code",
   "execution_count": 23,
   "metadata": {},
   "outputs": [],
   "source": [
    "df_TranAftCamp, df_Credit, df_Customers,df_transactions = [pd.read_csv(f) for f in ['./Data/avg_transactions_after_campaign.csv', './Data/credit_profiles.csv','./Data/customers.csv','./Data/transactions.csv']]"
   ]
  },
  {
   "cell_type": "code",
   "execution_count": 24,
   "metadata": {},
   "outputs": [
    {
     "data": {
      "text/plain": [
       "((1004, 6), (1004, 6))"
      ]
     },
     "execution_count": 24,
     "metadata": {},
     "output_type": "execute_result"
    }
   ],
   "source": [
    "df_Credit2 = df_Credit.copy()\n",
    "df_Credit2.shape,df_Credit.shape"
   ]
  },
  {
   "cell_type": "code",
   "execution_count": 25,
   "metadata": {},
   "outputs": [
    {
     "data": {
      "text/plain": [
       "((1000, 8), (1000, 8))"
      ]
     },
     "execution_count": 25,
     "metadata": {},
     "output_type": "execute_result"
    }
   ],
   "source": [
    "df_Customers2 = df_Customers.copy()\n",
    "df_Customers2.shape,df_Customers.shape"
   ]
  },
  {
   "cell_type": "code",
   "execution_count": 26,
   "metadata": {},
   "outputs": [
    {
     "data": {
      "text/html": [
       "<div>\n",
       "<style scoped>\n",
       "    .dataframe tbody tr th:only-of-type {\n",
       "        vertical-align: middle;\n",
       "    }\n",
       "\n",
       "    .dataframe tbody tr th {\n",
       "        vertical-align: top;\n",
       "    }\n",
       "\n",
       "    .dataframe thead th {\n",
       "        text-align: right;\n",
       "    }\n",
       "</style>\n",
       "<table border=\"1\" class=\"dataframe\">\n",
       "  <thead>\n",
       "    <tr style=\"text-align: right;\">\n",
       "      <th></th>\n",
       "      <th>cust_id</th>\n",
       "      <th>credit_score</th>\n",
       "      <th>credit_utilisation</th>\n",
       "      <th>outstanding_debt</th>\n",
       "      <th>credit_inquiries_last_6_months</th>\n",
       "      <th>credit_limit</th>\n",
       "    </tr>\n",
       "  </thead>\n",
       "  <tbody>\n",
       "    <tr>\n",
       "      <th>count</th>\n",
       "      <td>1004.000000</td>\n",
       "      <td>1004.000000</td>\n",
       "      <td>1000.000000</td>\n",
       "      <td>1000.000000</td>\n",
       "      <td>1000.000000</td>\n",
       "      <td>935.000000</td>\n",
       "    </tr>\n",
       "    <tr>\n",
       "      <th>mean</th>\n",
       "      <td>500.850598</td>\n",
       "      <td>588.655378</td>\n",
       "      <td>0.498950</td>\n",
       "      <td>9683.597000</td>\n",
       "      <td>1.955000</td>\n",
       "      <td>19235.561497</td>\n",
       "    </tr>\n",
       "    <tr>\n",
       "      <th>std</th>\n",
       "      <td>288.315670</td>\n",
       "      <td>152.575244</td>\n",
       "      <td>0.233139</td>\n",
       "      <td>25255.893671</td>\n",
       "      <td>1.414559</td>\n",
       "      <td>24489.997195</td>\n",
       "    </tr>\n",
       "    <tr>\n",
       "      <th>min</th>\n",
       "      <td>1.000000</td>\n",
       "      <td>300.000000</td>\n",
       "      <td>0.103761</td>\n",
       "      <td>33.000000</td>\n",
       "      <td>0.000000</td>\n",
       "      <td>500.000000</td>\n",
       "    </tr>\n",
       "    <tr>\n",
       "      <th>25%</th>\n",
       "      <td>251.750000</td>\n",
       "      <td>459.000000</td>\n",
       "      <td>0.293917</td>\n",
       "      <td>221.000000</td>\n",
       "      <td>1.000000</td>\n",
       "      <td>750.000000</td>\n",
       "    </tr>\n",
       "    <tr>\n",
       "      <th>50%</th>\n",
       "      <td>502.500000</td>\n",
       "      <td>601.000000</td>\n",
       "      <td>0.487422</td>\n",
       "      <td>550.000000</td>\n",
       "      <td>2.000000</td>\n",
       "      <td>1250.000000</td>\n",
       "    </tr>\n",
       "    <tr>\n",
       "      <th>75%</th>\n",
       "      <td>749.250000</td>\n",
       "      <td>737.250000</td>\n",
       "      <td>0.697829</td>\n",
       "      <td>11819.500000</td>\n",
       "      <td>3.000000</td>\n",
       "      <td>40000.000000</td>\n",
       "    </tr>\n",
       "    <tr>\n",
       "      <th>max</th>\n",
       "      <td>1000.000000</td>\n",
       "      <td>799.000000</td>\n",
       "      <td>0.899648</td>\n",
       "      <td>209901.000000</td>\n",
       "      <td>4.000000</td>\n",
       "      <td>60000.000000</td>\n",
       "    </tr>\n",
       "  </tbody>\n",
       "</table>\n",
       "</div>"
      ],
      "text/plain": [
       "           cust_id  credit_score  credit_utilisation  outstanding_debt  \\\n",
       "count  1004.000000   1004.000000         1000.000000       1000.000000   \n",
       "mean    500.850598    588.655378            0.498950       9683.597000   \n",
       "std     288.315670    152.575244            0.233139      25255.893671   \n",
       "min       1.000000    300.000000            0.103761         33.000000   \n",
       "25%     251.750000    459.000000            0.293917        221.000000   \n",
       "50%     502.500000    601.000000            0.487422        550.000000   \n",
       "75%     749.250000    737.250000            0.697829      11819.500000   \n",
       "max    1000.000000    799.000000            0.899648     209901.000000   \n",
       "\n",
       "       credit_inquiries_last_6_months  credit_limit  \n",
       "count                     1000.000000    935.000000  \n",
       "mean                         1.955000  19235.561497  \n",
       "std                          1.414559  24489.997195  \n",
       "min                          0.000000    500.000000  \n",
       "25%                          1.000000    750.000000  \n",
       "50%                          2.000000   1250.000000  \n",
       "75%                          3.000000  40000.000000  \n",
       "max                          4.000000  60000.000000  "
      ]
     },
     "execution_count": 26,
     "metadata": {},
     "output_type": "execute_result"
    }
   ],
   "source": [
    "df_Credit2.describe()"
   ]
  },
  {
   "cell_type": "code",
   "execution_count": 27,
   "metadata": {},
   "outputs": [
    {
     "data": {
      "image/png": "[encoded data removed]",
      "text/plain": [
       "<Figure size 500x300 with 1 Axes>"
      ]
     },
     "metadata": {},
     "output_type": "display_data"
    }
   ],
   "source": [
    "plt.figure(figsize=(5, 3))\n",
    "sns.boxplot(x=df_Credit['outstanding_debt'])\n",
    "plt.title('Box Plot of Outstanding Debt')\n",
    "plt.xlabel('Outstanding Debt')\n",
    "plt.show()"
   ]
  },
  {
   "cell_type": "code",
   "execution_count": 28,
   "metadata": {},
   "outputs": [
    {
     "data": {
      "text/plain": [
       "(18, 6)"
      ]
     },
     "execution_count": 28,
     "metadata": {},
     "output_type": "execute_result"
    }
   ],
   "source": [
    "df_outstanding_debt_more_than_credit_limit = df_Credit2[df_Credit2['outstanding_debt'] > df_Credit2['credit_limit']]\n",
    "df_outstanding_debt_more_than_credit_limit.shape"
   ]
  },
  {
   "cell_type": "code",
   "execution_count": 29,
   "metadata": {},
   "outputs": [
    {
     "data": {
      "text/html": [
       "<div>\n",
       "<style scoped>\n",
       "    .dataframe tbody tr th:only-of-type {\n",
       "        vertical-align: middle;\n",
       "    }\n",
       "\n",
       "    .dataframe tbody tr th {\n",
       "        vertical-align: top;\n",
       "    }\n",
       "\n",
       "    .dataframe thead th {\n",
       "        text-align: right;\n",
       "    }\n",
       "</style>\n",
       "<table border=\"1\" class=\"dataframe\">\n",
       "  <thead>\n",
       "    <tr style=\"text-align: right;\">\n",
       "      <th></th>\n",
       "      <th>outstanding_debt</th>\n",
       "      <th>credit_limit</th>\n",
       "    </tr>\n",
       "  </thead>\n",
       "  <tbody>\n",
       "    <tr>\n",
       "      <th>1</th>\n",
       "      <td>161644.0</td>\n",
       "      <td>1250.0</td>\n",
       "    </tr>\n",
       "    <tr>\n",
       "      <th>19</th>\n",
       "      <td>205014.0</td>\n",
       "      <td>1500.0</td>\n",
       "    </tr>\n",
       "    <tr>\n",
       "      <th>25</th>\n",
       "      <td>190838.0</td>\n",
       "      <td>60000.0</td>\n",
       "    </tr>\n",
       "    <tr>\n",
       "      <th>38</th>\n",
       "      <td>122758.0</td>\n",
       "      <td>40000.0</td>\n",
       "    </tr>\n",
       "    <tr>\n",
       "      <th>93</th>\n",
       "      <td>137058.0</td>\n",
       "      <td>40000.0</td>\n",
       "    </tr>\n",
       "    <tr>\n",
       "      <th>204</th>\n",
       "      <td>187849.0</td>\n",
       "      <td>500.0</td>\n",
       "    </tr>\n",
       "    <tr>\n",
       "      <th>271</th>\n",
       "      <td>154568.0</td>\n",
       "      <td>40000.0</td>\n",
       "    </tr>\n",
       "    <tr>\n",
       "      <th>330</th>\n",
       "      <td>208898.0</td>\n",
       "      <td>60000.0</td>\n",
       "    </tr>\n",
       "    <tr>\n",
       "      <th>350</th>\n",
       "      <td>150860.0</td>\n",
       "      <td>500.0</td>\n",
       "    </tr>\n",
       "    <tr>\n",
       "      <th>446</th>\n",
       "      <td>206191.0</td>\n",
       "      <td>60000.0</td>\n",
       "    </tr>\n",
       "    <tr>\n",
       "      <th>545</th>\n",
       "      <td>135112.0</td>\n",
       "      <td>60000.0</td>\n",
       "    </tr>\n",
       "    <tr>\n",
       "      <th>639</th>\n",
       "      <td>140063.0</td>\n",
       "      <td>500.0</td>\n",
       "    </tr>\n",
       "    <tr>\n",
       "      <th>649</th>\n",
       "      <td>128818.0</td>\n",
       "      <td>750.0</td>\n",
       "    </tr>\n",
       "    <tr>\n",
       "      <th>702</th>\n",
       "      <td>190717.0</td>\n",
       "      <td>60000.0</td>\n",
       "    </tr>\n",
       "    <tr>\n",
       "      <th>727</th>\n",
       "      <td>140008.0</td>\n",
       "      <td>750.0</td>\n",
       "    </tr>\n",
       "    <tr>\n",
       "      <th>734</th>\n",
       "      <td>209901.0</td>\n",
       "      <td>1500.0</td>\n",
       "    </tr>\n",
       "    <tr>\n",
       "      <th>770</th>\n",
       "      <td>195004.0</td>\n",
       "      <td>750.0</td>\n",
       "    </tr>\n",
       "    <tr>\n",
       "      <th>866</th>\n",
       "      <td>208406.0</td>\n",
       "      <td>60000.0</td>\n",
       "    </tr>\n",
       "  </tbody>\n",
       "</table>\n",
       "</div>"
      ],
      "text/plain": [
       "     outstanding_debt  credit_limit\n",
       "1            161644.0        1250.0\n",
       "19           205014.0        1500.0\n",
       "25           190838.0       60000.0\n",
       "38           122758.0       40000.0\n",
       "93           137058.0       40000.0\n",
       "204          187849.0         500.0\n",
       "271          154568.0       40000.0\n",
       "330          208898.0       60000.0\n",
       "350          150860.0         500.0\n",
       "446          206191.0       60000.0\n",
       "545          135112.0       60000.0\n",
       "639          140063.0         500.0\n",
       "649          128818.0         750.0\n",
       "702          190717.0       60000.0\n",
       "727          140008.0         750.0\n",
       "734          209901.0        1500.0\n",
       "770          195004.0         750.0\n",
       "866          208406.0       60000.0"
      ]
     },
     "execution_count": 29,
     "metadata": {},
     "output_type": "execute_result"
    }
   ],
   "source": [
    "df_outstanding_debt_more_than_credit_limit[['outstanding_debt', 'credit_limit']]"
   ]
  },
  {
   "cell_type": "code",
   "execution_count": 30,
   "metadata": {},
   "outputs": [],
   "source": [
    "df_Credit2['outstanding_debt'] = np.where(df_Credit2['outstanding_debt'] > df_Credit2['credit_limit'], df_Credit2['credit_limit'], df_Credit2['outstanding_debt'])"
   ]
  },
  {
   "cell_type": "code",
   "execution_count": 31,
   "metadata": {},
   "outputs": [
    {
     "data": {
      "text/plain": [
       "(0, 6)"
      ]
     },
     "execution_count": 31,
     "metadata": {},
     "output_type": "execute_result"
    }
   ],
   "source": [
    "df_outstanding_debt_more_than_credit_limit = df_Credit2[df_Credit2['outstanding_debt'] > df_Credit2['credit_limit']]\n",
    "df_outstanding_debt_more_than_credit_limit.shape"
   ]
  },
  {
   "cell_type": "code",
   "execution_count": 32,
   "metadata": {},
   "outputs": [],
   "source": [
    "##### Exploring Corrolation Bivariate Analysis We start by merging the Customer Data with the Credit Data \n",
    "# ###this way we can see the relationship between the two datasets and Credit Score extends the Customer Data information"
   ]
  },
  {
   "cell_type": "code",
   "execution_count": null,
   "metadata": {},
   "outputs": [],
   "source": []
  },
  {
   "cell_type": "code",
   "execution_count": 33,
   "metadata": {},
   "outputs": [
    {
     "data": {
      "text/html": [
       "<div>\n",
       "<style scoped>\n",
       "    .dataframe tbody tr th:only-of-type {\n",
       "        vertical-align: middle;\n",
       "    }\n",
       "\n",
       "    .dataframe tbody tr th {\n",
       "        vertical-align: top;\n",
       "    }\n",
       "\n",
       "    .dataframe thead th {\n",
       "        text-align: right;\n",
       "    }\n",
       "</style>\n",
       "<table border=\"1\" class=\"dataframe\">\n",
       "  <thead>\n",
       "    <tr style=\"text-align: right;\">\n",
       "      <th></th>\n",
       "      <th>cust_id</th>\n",
       "      <th>name</th>\n",
       "      <th>gender</th>\n",
       "      <th>age</th>\n",
       "      <th>location</th>\n",
       "      <th>occupation</th>\n",
       "      <th>annual_income</th>\n",
       "      <th>marital_status</th>\n",
       "      <th>credit_score</th>\n",
       "      <th>credit_utilisation</th>\n",
       "      <th>outstanding_debt</th>\n",
       "      <th>credit_inquiries_last_6_months</th>\n",
       "      <th>credit_limit</th>\n",
       "    </tr>\n",
       "  </thead>\n",
       "  <tbody>\n",
       "    <tr>\n",
       "      <th>0</th>\n",
       "      <td>1</td>\n",
       "      <td>Manya Acharya</td>\n",
       "      <td>Female</td>\n",
       "      <td>2</td>\n",
       "      <td>City</td>\n",
       "      <td>Business Owner</td>\n",
       "      <td>358211.0</td>\n",
       "      <td>Married</td>\n",
       "      <td>749</td>\n",
       "      <td>0.585171</td>\n",
       "      <td>19571.0</td>\n",
       "      <td>0.0</td>\n",
       "      <td>40000.0</td>\n",
       "    </tr>\n",
       "    <tr>\n",
       "      <th>1</th>\n",
       "      <td>2</td>\n",
       "      <td>Anjali Pandey</td>\n",
       "      <td>Female</td>\n",
       "      <td>47</td>\n",
       "      <td>City</td>\n",
       "      <td>Consultant</td>\n",
       "      <td>65172.0</td>\n",
       "      <td>Single</td>\n",
       "      <td>587</td>\n",
       "      <td>0.107928</td>\n",
       "      <td>1250.0</td>\n",
       "      <td>2.0</td>\n",
       "      <td>1250.0</td>\n",
       "    </tr>\n",
       "    <tr>\n",
       "      <th>2</th>\n",
       "      <td>3</td>\n",
       "      <td>Aaryan Chauhan</td>\n",
       "      <td>Male</td>\n",
       "      <td>21</td>\n",
       "      <td>City</td>\n",
       "      <td>Freelancer</td>\n",
       "      <td>22378.0</td>\n",
       "      <td>Married</td>\n",
       "      <td>544</td>\n",
       "      <td>0.854807</td>\n",
       "      <td>513.0</td>\n",
       "      <td>4.0</td>\n",
       "      <td>1000.0</td>\n",
       "    </tr>\n",
       "    <tr>\n",
       "      <th>3</th>\n",
       "      <td>4</td>\n",
       "      <td>Rudra Bali</td>\n",
       "      <td>Male</td>\n",
       "      <td>24</td>\n",
       "      <td>Rural</td>\n",
       "      <td>Freelancer</td>\n",
       "      <td>33563.0</td>\n",
       "      <td>Married</td>\n",
       "      <td>504</td>\n",
       "      <td>0.336938</td>\n",
       "      <td>224.0</td>\n",
       "      <td>2.0</td>\n",
       "      <td>1000.0</td>\n",
       "    </tr>\n",
       "    <tr>\n",
       "      <th>4</th>\n",
       "      <td>5</td>\n",
       "      <td>Advait Malik</td>\n",
       "      <td>Male</td>\n",
       "      <td>48</td>\n",
       "      <td>City</td>\n",
       "      <td>Consultant</td>\n",
       "      <td>39406.0</td>\n",
       "      <td>Married</td>\n",
       "      <td>708</td>\n",
       "      <td>0.586151</td>\n",
       "      <td>18090.0</td>\n",
       "      <td>2.0</td>\n",
       "      <td>40000.0</td>\n",
       "    </tr>\n",
       "  </tbody>\n",
       "</table>\n",
       "</div>"
      ],
      "text/plain": [
       "   cust_id            name  gender  age location      occupation  \\\n",
       "0        1   Manya Acharya  Female    2     City  Business Owner   \n",
       "1        2   Anjali Pandey  Female   47     City      Consultant   \n",
       "2        3  Aaryan Chauhan    Male   21     City      Freelancer   \n",
       "3        4      Rudra Bali    Male   24    Rural      Freelancer   \n",
       "4        5    Advait Malik    Male   48     City      Consultant   \n",
       "\n",
       "   annual_income marital_status  credit_score  credit_utilisation  \\\n",
       "0       358211.0        Married           749            0.585171   \n",
       "1        65172.0         Single           587            0.107928   \n",
       "2        22378.0        Married           544            0.854807   \n",
       "3        33563.0        Married           504            0.336938   \n",
       "4        39406.0        Married           708            0.586151   \n",
       "\n",
       "   outstanding_debt  credit_inquiries_last_6_months  credit_limit  \n",
       "0           19571.0                             0.0       40000.0  \n",
       "1            1250.0                             2.0        1250.0  \n",
       "2             513.0                             4.0        1000.0  \n",
       "3             224.0                             2.0        1000.0  \n",
       "4           18090.0                             2.0       40000.0  "
      ]
     },
     "execution_count": 33,
     "metadata": {},
     "output_type": "execute_result"
    }
   ],
   "source": [
    "df_merged = pd.merge(df_Customers2, df_Credit2, on='cust_id')\n",
    "df_merged.head()"
   ]
  },
  {
   "cell_type": "code",
   "execution_count": 34,
   "metadata": {},
   "outputs": [
    {
     "data": {
      "text/plain": [
       "((1004, 13), (1004, 13))"
      ]
     },
     "execution_count": 34,
     "metadata": {},
     "output_type": "execute_result"
    }
   ],
   "source": [
    "df_merged2= df_merged.copy()\n",
    "df_merged2.shape, df_merged.shape"
   ]
  },
  {
   "cell_type": "code",
   "execution_count": null,
   "metadata": {},
   "outputs": [],
   "source": [
    "##### Lets create a Corrlation of the numeric columns in the data frame"
   ]
  },
  {
   "cell_type": "code",
   "execution_count": 35,
   "metadata": {},
   "outputs": [
    {
     "data": {
      "text/plain": [
       "Index(['cust_id', 'age', 'annual_income', 'credit_score', 'credit_utilisation',\n",
       "       'outstanding_debt', 'credit_inquiries_last_6_months', 'credit_limit'],\n",
       "      dtype='object')"
      ]
     },
     "execution_count": 35,
     "metadata": {},
     "output_type": "execute_result"
    }
   ],
   "source": [
    "numeric_columns = df_merged2.select_dtypes(include=[np.number]).columns\n",
    "numeric_columns"
   ]
  },
  {
   "cell_type": "code",
   "execution_count": 36,
   "metadata": {},
   "outputs": [
    {
     "data": {
      "text/html": [
       "<div>\n",
       "<style scoped>\n",
       "    .dataframe tbody tr th:only-of-type {\n",
       "        vertical-align: middle;\n",
       "    }\n",
       "\n",
       "    .dataframe tbody tr th {\n",
       "        vertical-align: top;\n",
       "    }\n",
       "\n",
       "    .dataframe thead th {\n",
       "        text-align: right;\n",
       "    }\n",
       "</style>\n",
       "<table border=\"1\" class=\"dataframe\">\n",
       "  <thead>\n",
       "    <tr style=\"text-align: right;\">\n",
       "      <th></th>\n",
       "      <th>cust_id</th>\n",
       "      <th>age</th>\n",
       "      <th>annual_income</th>\n",
       "      <th>credit_score</th>\n",
       "      <th>credit_utilisation</th>\n",
       "      <th>outstanding_debt</th>\n",
       "      <th>credit_inquiries_last_6_months</th>\n",
       "      <th>credit_limit</th>\n",
       "    </tr>\n",
       "  </thead>\n",
       "  <tbody>\n",
       "    <tr>\n",
       "      <th>cust_id</th>\n",
       "      <td>1.000000</td>\n",
       "      <td>0.001659</td>\n",
       "      <td>0.004764</td>\n",
       "      <td>0.020799</td>\n",
       "      <td>0.000024</td>\n",
       "      <td>0.005564</td>\n",
       "      <td>0.029721</td>\n",
       "      <td>0.022274</td>\n",
       "    </tr>\n",
       "    <tr>\n",
       "      <th>age</th>\n",
       "      <td>0.001659</td>\n",
       "      <td>1.000000</td>\n",
       "      <td>0.472010</td>\n",
       "      <td>0.357283</td>\n",
       "      <td>-0.026364</td>\n",
       "      <td>0.301906</td>\n",
       "      <td>-0.024833</td>\n",
       "      <td>0.412956</td>\n",
       "    </tr>\n",
       "    <tr>\n",
       "      <th>annual_income</th>\n",
       "      <td>0.004764</td>\n",
       "      <td>0.472010</td>\n",
       "      <td>1.000000</td>\n",
       "      <td>0.573775</td>\n",
       "      <td>-0.099406</td>\n",
       "      <td>0.466096</td>\n",
       "      <td>0.009037</td>\n",
       "      <td>0.681139</td>\n",
       "    </tr>\n",
       "    <tr>\n",
       "      <th>credit_score</th>\n",
       "      <td>0.020799</td>\n",
       "      <td>0.357283</td>\n",
       "      <td>0.573775</td>\n",
       "      <td>1.000000</td>\n",
       "      <td>-0.070445</td>\n",
       "      <td>0.584742</td>\n",
       "      <td>-0.001226</td>\n",
       "      <td>0.844279</td>\n",
       "    </tr>\n",
       "    <tr>\n",
       "      <th>credit_utilisation</th>\n",
       "      <td>0.000024</td>\n",
       "      <td>-0.026364</td>\n",
       "      <td>-0.099406</td>\n",
       "      <td>-0.070445</td>\n",
       "      <td>1.000000</td>\n",
       "      <td>0.143456</td>\n",
       "      <td>-0.013952</td>\n",
       "      <td>-0.084046</td>\n",
       "    </tr>\n",
       "    <tr>\n",
       "      <th>outstanding_debt</th>\n",
       "      <td>0.005564</td>\n",
       "      <td>0.301906</td>\n",
       "      <td>0.466096</td>\n",
       "      <td>0.584742</td>\n",
       "      <td>0.143456</td>\n",
       "      <td>1.000000</td>\n",
       "      <td>0.044420</td>\n",
       "      <td>0.813659</td>\n",
       "    </tr>\n",
       "    <tr>\n",
       "      <th>credit_inquiries_last_6_months</th>\n",
       "      <td>0.029721</td>\n",
       "      <td>-0.024833</td>\n",
       "      <td>0.009037</td>\n",
       "      <td>-0.001226</td>\n",
       "      <td>-0.013952</td>\n",
       "      <td>0.044420</td>\n",
       "      <td>1.000000</td>\n",
       "      <td>0.024669</td>\n",
       "    </tr>\n",
       "    <tr>\n",
       "      <th>credit_limit</th>\n",
       "      <td>0.022274</td>\n",
       "      <td>0.412956</td>\n",
       "      <td>0.681139</td>\n",
       "      <td>0.844279</td>\n",
       "      <td>-0.084046</td>\n",
       "      <td>0.813659</td>\n",
       "      <td>0.024669</td>\n",
       "      <td>1.000000</td>\n",
       "    </tr>\n",
       "  </tbody>\n",
       "</table>\n",
       "</div>"
      ],
      "text/plain": [
       "                                 cust_id       age  annual_income  \\\n",
       "cust_id                         1.000000  0.001659       0.004764   \n",
       "age                             0.001659  1.000000       0.472010   \n",
       "annual_income                   0.004764  0.472010       1.000000   \n",
       "credit_score                    0.020799  0.357283       0.573775   \n",
       "credit_utilisation              0.000024 -0.026364      -0.099406   \n",
       "outstanding_debt                0.005564  0.301906       0.466096   \n",
       "credit_inquiries_last_6_months  0.029721 -0.024833       0.009037   \n",
       "credit_limit                    0.022274  0.412956       0.681139   \n",
       "\n",
       "                                credit_score  credit_utilisation  \\\n",
       "cust_id                             0.020799            0.000024   \n",
       "age                                 0.357283           -0.026364   \n",
       "annual_income                       0.573775           -0.099406   \n",
       "credit_score                        1.000000           -0.070445   \n",
       "credit_utilisation                 -0.070445            1.000000   \n",
       "outstanding_debt                    0.584742            0.143456   \n",
       "credit_inquiries_last_6_months     -0.001226           -0.013952   \n",
       "credit_limit                        0.844279           -0.084046   \n",
       "\n",
       "                                outstanding_debt  \\\n",
       "cust_id                                 0.005564   \n",
       "age                                     0.301906   \n",
       "annual_income                           0.466096   \n",
       "credit_score                            0.584742   \n",
       "credit_utilisation                      0.143456   \n",
       "outstanding_debt                        1.000000   \n",
       "credit_inquiries_last_6_months          0.044420   \n",
       "credit_limit                            0.813659   \n",
       "\n",
       "                                credit_inquiries_last_6_months  credit_limit  \n",
       "cust_id                                               0.029721      0.022274  \n",
       "age                                                  -0.024833      0.412956  \n",
       "annual_income                                         0.009037      0.681139  \n",
       "credit_score                                         -0.001226      0.844279  \n",
       "credit_utilisation                                   -0.013952     -0.084046  \n",
       "outstanding_debt                                      0.044420      0.813659  \n",
       "credit_inquiries_last_6_months                        1.000000      0.024669  \n",
       "credit_limit                                          0.024669      1.000000  "
      ]
     },
     "execution_count": 36,
     "metadata": {},
     "output_type": "execute_result"
    }
   ],
   "source": [
    "corrolation = df_merged2[numeric_columns].corr()\n",
    "corrolation"
   ]
  },
  {
   "cell_type": "code",
   "execution_count": 39,
   "metadata": {},
   "outputs": [],
   "source": [
    "##### Lets create a Heatmap of the Corrolation Matrix so we can visualize the Corrolation"
   ]
  },
  {
   "cell_type": "code",
   "execution_count": 40,
   "metadata": {},
   "outputs": [
    {
     "data": {
      "image/png": "[encoded data removed]",
      "text/plain": [
       "<Figure size 700x500 with 2 Axes>"
      ]
     },
     "metadata": {},
     "output_type": "display_data"
    }
   ],
   "source": [
    "plt.figure(figsize=(7, 5))\n",
    "sns.heatmap(corrolation, annot=True, cmap='coolwarm', linewidths=0.9)\n",
    "plt.title('Heatmap of Correlation Matrix')\n",
    "plt.show()"
   ]
  },
  {
   "cell_type": "code",
   "execution_count": null,
   "metadata": {},
   "outputs": [],
   "source": []
  },
  {
   "cell_type": "code",
   "execution_count": 41,
   "metadata": {},
   "outputs": [
    {
     "name": "stdout",
     "output_type": "stream",
     "text": [
      "                  annual_income  credit_score  outstanding_debt  credit_limit\n",
      "annual_income               NaN           NaN               NaN      0.681139\n",
      "credit_score                NaN           NaN               NaN      0.844279\n",
      "outstanding_debt            NaN           NaN               NaN      0.813659\n",
      "credit_limit           0.681139      0.844279          0.813659           NaN\n"
     ]
    },
    {
     "data": {
      "image/png": "[encoded data removed]",
      "text/plain": [
       "<Figure size 700x500 with 2 Axes>"
      ]
     },
     "metadata": {},
     "output_type": "display_data"
    }
   ],
   "source": [
    "# Filter the correlation matrix to get only the correlations greater than 0.65\n",
    "high_corr = corrolation[(corrolation > 0.65) & (corrolation != 1.0)].dropna(how='all', axis=0).dropna(how='all', axis=1)\n",
    "\n",
    "# Display the filtered correlation matrix\n",
    "print(high_corr)\n",
    "\n",
    "# Plot the heatmap for the filtered correlation matrix\n",
    "plt.figure(figsize=(7, 5))\n",
    "sns.heatmap(high_corr, annot=True, cmap='coolwarm', linewidths=0.9)\n",
    "plt.title('Heatmap of High Correlation (> 0.65)')\n",
    "plt.show()"
   ]
  },
  {
   "cell_type": "code",
   "execution_count": 42,
   "metadata": {},
   "outputs": [
    {
     "data": {
      "text/html": [
       "<div>\n",
       "<style scoped>\n",
       "    .dataframe tbody tr th:only-of-type {\n",
       "        vertical-align: middle;\n",
       "    }\n",
       "\n",
       "    .dataframe tbody tr th {\n",
       "        vertical-align: top;\n",
       "    }\n",
       "\n",
       "    .dataframe thead th {\n",
       "        text-align: right;\n",
       "    }\n",
       "</style>\n",
       "<table border=\"1\" class=\"dataframe\">\n",
       "  <thead>\n",
       "    <tr style=\"text-align: right;\">\n",
       "      <th></th>\n",
       "      <th>annual_income</th>\n",
       "      <th>credit_score</th>\n",
       "      <th>outstanding_debt</th>\n",
       "      <th>credit_limit</th>\n",
       "    </tr>\n",
       "  </thead>\n",
       "  <tbody>\n",
       "    <tr>\n",
       "      <th>annual_income</th>\n",
       "      <td>NaN</td>\n",
       "      <td>NaN</td>\n",
       "      <td>NaN</td>\n",
       "      <td>0.681139</td>\n",
       "    </tr>\n",
       "    <tr>\n",
       "      <th>credit_score</th>\n",
       "      <td>NaN</td>\n",
       "      <td>NaN</td>\n",
       "      <td>NaN</td>\n",
       "      <td>0.844279</td>\n",
       "    </tr>\n",
       "    <tr>\n",
       "      <th>outstanding_debt</th>\n",
       "      <td>NaN</td>\n",
       "      <td>NaN</td>\n",
       "      <td>NaN</td>\n",
       "      <td>0.813659</td>\n",
       "    </tr>\n",
       "    <tr>\n",
       "      <th>credit_limit</th>\n",
       "      <td>0.681139</td>\n",
       "      <td>0.844279</td>\n",
       "      <td>0.813659</td>\n",
       "      <td>NaN</td>\n",
       "    </tr>\n",
       "  </tbody>\n",
       "</table>\n",
       "</div>"
      ],
      "text/plain": [
       "                  annual_income  credit_score  outstanding_debt  credit_limit\n",
       "annual_income               NaN           NaN               NaN      0.681139\n",
       "credit_score                NaN           NaN               NaN      0.844279\n",
       "outstanding_debt            NaN           NaN               NaN      0.813659\n",
       "credit_limit           0.681139      0.844279          0.813659           NaN"
      ]
     },
     "execution_count": 42,
     "metadata": {},
     "output_type": "execute_result"
    }
   ],
   "source": [
    "# Create a new DataFrame from the high_corr variable\n",
    "df_high_corr = pd.DataFrame(high_corr)\n",
    "\n",
    "# Display the new DataFrame\n",
    "df_high_corr"
   ]
  },
  {
   "cell_type": "code",
   "execution_count": 49,
   "metadata": {},
   "outputs": [],
   "source": [
    "# Display the high correlation table\n",
    "high_corr2 = high_corr.copy()"
   ]
  },
  {
   "cell_type": "code",
   "execution_count": null,
   "metadata": {},
   "outputs": [],
   "source": []
  },
  {
   "cell_type": "code",
   "execution_count": 66,
   "metadata": {},
   "outputs": [
    {
     "name": "stdout",
     "output_type": "stream",
     "text": [
      "Table for annual_income and credit_limit correlation:\n",
      "  annual_income credit_limit\n",
      "0    correlated   correlated\n",
      "\n",
      "Table for credit_score and credit_limit correlation:\n",
      "        credit_score       credit_limit\n",
      "0  highly-correlated  highly-correlated\n",
      "\n",
      "Table for outstanding_debt and credit_limit correlation:\n",
      "    outstanding_debt       credit_limit\n",
      "0  highly-correlated  highly-correlated\n",
      "\n",
      "Table for credit_limit and annual_income correlation:\n",
      "  credit_limit annual_income\n",
      "0   correlated    correlated\n",
      "\n",
      "Table for credit_limit and credit_score correlation:\n",
      "        credit_limit       credit_score\n",
      "0  highly-correlated  highly-correlated\n",
      "\n",
      "Table for credit_limit and outstanding_debt correlation:\n",
      "        credit_limit   outstanding_debt\n",
      "0  highly-correlated  highly-correlated\n",
      "\n"
     ]
    }
   ],
   "source": [
    "# Define the correlation threshold\n",
    "correlation_threshold = 0.65\n",
    "\n",
    "# Create an empty list to store the tables\n",
    "correlation_tables = []\n",
    "\n",
    "# Iterate through the correlation matrix\n",
    "for col1 in corrolation.columns:\n",
    "    for col2 in corrolation.columns:\n",
    "        if col1 != col2 and abs(corrolation.loc[col1, col2]) > correlation_threshold:\n",
    "            table = pd.DataFrame({\n",
    "                col1: ['correlated' if abs(corrolation.loc[col1, col2]) <= 0.80 else 'highly-correlated'],\n",
    "                col2: ['correlated' if abs(corrolation.loc[col1, col2]) <= 0.80 else 'highly-correlated']\n",
    "            })\n",
    "            correlation_tables.append(table)\n",
    "            print(f\"Table for {col1} and {col2} correlation:\")\n",
    "            print(table)\n",
    "            print()\n",
    "            pd.DataFrame(table)"
   ]
  },
  {
   "cell_type": "code",
   "execution_count": null,
   "metadata": {},
   "outputs": [],
   "source": [
    "# pd.DataFrame(table).to_csv('./Data/table_result.csv', index=False)"
   ]
  },
  {
   "cell_type": "code",
   "execution_count": null,
   "metadata": {},
   "outputs": [],
   "source": []
  },
  {
   "cell_type": "code",
   "execution_count": null,
   "metadata": {},
   "outputs": [],
   "source": []
  }
 ],
 "metadata": {
  "kernelspec": {
   "display_name": "Python 3",
   "language": "python",
   "name": "python3"
  },
  "language_info": {
   "codemirror_mode": {
    "name": "ipython",
    "version": 3
   },
   "file_extension": ".py",
   "mimetype": "text/x-python",
   "name": "python",
   "nbconvert_exporter": "python",
   "pygments_lexer": "ipython3",
   "version": "3.13.2"
  }
 },
 "nbformat": 4,
 "nbformat_minor": 2
}
